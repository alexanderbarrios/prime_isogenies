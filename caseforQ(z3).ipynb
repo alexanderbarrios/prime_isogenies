{
 "cells": [
  {
   "cell_type": "code",
   "execution_count": 1,
   "metadata": {
    "collapsed": false
   },
   "outputs": [
   ],
   "source": [
    "K.<z3> = CyclotomicField(3)\n",
    "S.<a,b,t,d> = K[]\n",
    "S=S.fraction_field()\n",
    "load('models.sage')"
   ]
  },
  {
   "cell_type": "code",
   "execution_count": 2,
   "metadata": {
    "collapsed": false
   },
   "outputs": [
    {
     "name": "stdout",
     "output_type": "stream",
     "text": [
      "True\n",
      "True\n",
      "True\n",
      "True\n",
      "True\n",
      "True\n",
      "True\n",
      "True\n",
      "True\n",
      "True\n",
      "True\n",
      "True\n",
      "True\n",
      "True\n",
      "True\n",
      "True\n",
      "True\n",
      "True\n",
      "True\n",
      "True\n",
      "True\n",
      "True\n",
      "True\n",
      "True\n",
      "True\n",
      "True\n",
      "True\n",
      "True\n",
      "True\n",
      "True\n"
     ]
    }
   ],
   "source": [
    "X = [(2,j2_1,j2_2),(3,j3_1,j3_2),(5,j5_1,j5_2),(7,j7_1,j7_2),(13,j13_1,j13_2)]\n",
    "for x in X:\n",
    "\tp,j1,j2 =x[0],x[1],x[2]\n",
    "\tprint(K(j1(1)) == K(j2(p^(12/(p-1)))))\n",
    "\tprint(K(j1(-1)) == K(j2(-p^(12/(p-1)))))\n",
    "\tprint(K(j1(z3)) == K(j2(z3^2*p^(12/(p-1)))))\n",
    "\tprint(K(j1(-z3)) == K(j2(-z3^2*p^(12/(p-1)))))\n",
    "\tprint(K(j1(z3^2)) == K(j2(z3*p^(12/(p-1)))))\n",
    "\tprint(K(j1(-z3^2)) == K(j2(-z3*p^(12/(p-1)))))"
   ]
  },
  {
   "cell_type": "code",
   "execution_count": 3,
   "metadata": {
    "collapsed": false
   },
   "outputs": [
    {
     "name": "stdout",
     "output_type": "stream",
     "text": [
      "[1, [38416, 'jinv=', 406749952, 1792, 'disc=', 92236816, 1]]\n",
      "None\n"
     ]
    },
    {
     "name": "stdout",
     "output_type": "stream",
     "text": [
      "[-1, [456976, 'jinv=', -368484688, -208, 'disc=', -208827064576, 1]]\n",
      "None\n"
     ]
    },
    {
     "name": "stdout",
     "output_type": "stream",
     "text": [
      "[z3, [494209, 'jinv=', 18935047*z3 + 387224415, -495*z3 - 8, 'disc=', 72871150769*z3 + 272384219744, z3]]\n",
      "None\n"
     ]
    },
    {
     "name": "stdout",
     "output_type": "stream",
     "text": [
      "[-z3, [573049, 'jinv=', 19328705*z3 - 387222903, 423*z3 + 1448, 'disc=', 94492296415*z3 - 270779346656, z3]]\n",
      "None\n"
     ]
    },
    {
     "name": "stdout",
     "output_type": "stream",
     "text": [
      "[-z3 - 1, [494209, 'jinv=', -18935047*z3 + 368289368, 495*z3 + 487, 'disc=', -72871150769*z3 + 199513068975, -z3 - 1]]\n",
      "None\n"
     ]
    },
    {
     "name": "stdout",
     "output_type": "stream",
     "text": [
      "[z3 + 1, [573049, 'jinv=', -19328705*z3 - 406551608, -423*z3 + 1025, 'disc=', -94492296415*z3 - 365271643071, -z3 - 1]]\n",
      "None\n"
     ]
    },
    {
     "name": "stdout",
     "output_type": "stream",
     "text": [
      "[27, [144, 'jinv=', 54000, 54000, 'disc=', 6912, 1]]\n",
      "None\n",
      "[-27, -27]\n",
      "None\n"
     ]
    },
    {
     "name": "stdout",
     "output_type": "stream",
     "text": [
      "[27*z3, [729, 'jinv=', 18981*z3 + 13149, -18981*z3 - 5832, 'disc=', 27*z3, z3]]\n",
      "None\n"
     ]
    },
    {
     "name": "stdout",
     "output_type": "stream",
     "text": [
      "[-27*z3, [6561, 'jinv=', 33507*z3 - 11637, -33507*z3 - 45144, 'disc=', -2187*z3, z3]]\n",
      "None\n"
     ]
    },
    {
     "name": "stdout",
     "output_type": "stream",
     "text": [
      "[-27*z3 - 27, [729, 'jinv=', -18981*z3 - 5832, 18981*z3 + 13149, 'disc=', -27*z3 - 27, -z3 - 1]]\n",
      "None\n"
     ]
    },
    {
     "name": "stdout",
     "output_type": "stream",
     "text": [
      "[27*z3 + 27, [6561, 'jinv=', -33507*z3 - 45144, 33507*z3 - 11637, 'disc=', 2187*z3 + 2187, -z3 - 1]]\n",
      "None\n"
     ]
    }
   ],
   "source": [
    "U1= [1,-1,z3,-z3, z3^2,-z3^2 ,27,-27,z3*27,-z3*27, z3^2*27,-z3^2*27]\n",
    "for t1 in U1:\n",
    "\tprint(print([t1,CurveVer(calC3_1,calC3_2,t1,1,K)]))"
   ]
  },
  {
   "cell_type": "code",
   "execution_count": 5,
   "metadata": {
    "collapsed": false
   },
   "outputs": [
    {
     "name": "stdout",
     "output_type": "stream",
     "text": [
      "True\n",
      "(2/3*z3 + 1/3, 0, 0, 0)\n"
     ]
    }
   ],
   "source": [
    "print(calC3_1(27,1).change_ring(K).is_isomorphic(calC3_2(27,1).change_ring(K)))\n",
    "print(isomorphisms(calC3_1(27,1).change_ring(K),calC3_2(27,1).change_ring(K),JustOne=True))"
   ]
  },
  {
   "cell_type": "code",
   "execution_count": 6,
   "metadata": {
    "collapsed": false
   },
   "outputs": [
    {
     "name": "stdout",
     "output_type": "stream",
     "text": [
      "(27*z3, -27*z3 - 27)\n"
     ]
    },
    {
     "name": "stdout",
     "output_type": "stream",
     "text": [
      "(-27*z3, 27*z3 + 27)\n"
     ]
    },
    {
     "name": "stdout",
     "output_type": "stream",
     "text": [
      "(-27*z3 - 27, 27*z3)\n"
     ]
    },
    {
     "name": "stdout",
     "output_type": "stream",
     "text": [
      "(27*z3 + 27, -27*z3)\n"
     ]
    }
   ],
   "source": [
    "L1=[]\n",
    "for u in U1:\n",
    "\tfor v in U1:\n",
    "\t\tif u != v:\n",
    "\t\t\ttry:\n",
    "\t\t\t\tcalC3_1(u,1)\n",
    "\t\t\texcept ArithmeticError:\n",
    "\t\t\t\tL1.append(u)\n",
    "\t\t\telse:\n",
    "\t\t\t\ttry:\n",
    "\t\t\t\t\tcalC3_1(v,1)\n",
    "\t\t\t\texcept ArithmeticError:\n",
    "\t\t\t\t\tL1.append(v)\n",
    "\t\t\t\telse:\n",
    "\t\t\t\t\tI = calC3_1(u,1).isogeny_class()\n",
    "\t\t\t\t\tfor F in I:\n",
    "\t\t\t\t\t\tif ZZ(calC3_1(v,1).change_ring(K).is_quadratic_twist(F.change_ring(K))) != 0 :\n",
    "\t\t\t\t\t\t\tprint((u,v))"
   ]
  },
  {
   "cell_type": "code",
   "execution_count": 10,
   "metadata": {
    "collapsed": false
   },
   "outputs": [
    {
     "data": {
      "text/plain": [
       "-27*z3 - 27"
      ]
     },
     "execution_count": 10,
     "metadata": {
     },
     "output_type": "execute_result"
    }
   ],
   "source": [
    "27*z3^2"
   ]
  },
  {
   "cell_type": "code",
   "execution_count": 7,
   "metadata": {
    "collapsed": false
   },
   "outputs": [
    {
     "name": "stdout",
     "output_type": "stream",
     "text": [
      "[2, z3, [4163862784, 'jinv=', 16580609*z3 - 195840, -4049*z3 - 3329, 'disc=', -1072959488*z3 - 1023414272, -z3 - 1]]\n"
     ]
    },
    {
     "name": "stdout",
     "output_type": "stream",
     "text": [
      "[2, -z3, [17313921, 'jinv=', 16973823*z3 + 197376, 4047*z3 + 4863, 'disc=', -261951*z3 - 274431, z3 + 1]]\n"
     ]
    },
    {
     "name": "stdout",
     "output_type": "stream",
     "text": [
      "[2, -z3 - 1, [4163862784, 'jinv=', -16580609*z3 - 16776449, 4049*z3 + 720, 'disc=', 1072959488*z3 + 49545216, z3]]\n"
     ]
    },
    {
     "name": "stdout",
     "output_type": "stream",
     "text": [
      "[2, z3 + 1, [17313921, 'jinv=', -16973823*z3 - 16776447, -4047*z3 + 816, 'disc=', 261951*z3 - 12480, -z3]]\n"
     ]
    },
    {
     "name": "stdout",
     "output_type": "stream",
     "text": [
      "[5, z3, [44693342464, 'jinv=', 23213475001*z3 - 6709180500, 179*z3 - 361, 'disc=', -7175507968*z3 - 3879718912, -z3 - 1]]\n"
     ]
    },
    {
     "name": "stdout",
     "output_type": "stream",
     "text": [
      "[5, -z3, [90067212544, 'jinv=', -37821287501*z3 - 7939255500, -2719*z3 - 739, 'disc=', 6953652224*z3 + 12105322496, -z3 - 1]]\n"
     ]
    },
    {
     "name": "stdout",
     "output_type": "stream",
     "text": [
      "[5, -z3 - 1, [44693342464, 'jinv=', -23213475001*z3 - 29922655501, -179*z3 - 540, 'disc=', 7175507968*z3 + 3295789056, z3]]\n"
     ]
    },
    {
     "name": "stdout",
     "output_type": "stream",
     "text": [
      "[5, z3 + 1, [90067212544, 'jinv=', 37821287501*z3 + 29882032001, 2719*z3 + 1980, 'disc=', -6953652224*z3 + 5151670272, z3]]\n"
     ]
    },
    {
     "name": "stdout",
     "output_type": "stream",
     "text": [
      "[7, z3, [219024, 'jinv=', -598221714432*z3 - 300947514624, -3072*z3 - 2304, 'disc=', 1152*z3 - 1008, 1]]\n"
     ]
    },
    {
     "name": "stdout",
     "output_type": "stream",
     "text": [
      "[7, -z3, [2575765504, 'jinv=', 576310764672*z3 + 1054107237168, -10368*z3 - 13392, 'disc=', -14942208*z3 - 6307840, 1]]\n"
     ]
    },
    {
     "name": "stdout",
     "output_type": "stream",
     "text": [
      "[7, -z3 - 1, [219024, 'jinv=', 598221714432*z3 + 297274199808, 3072*z3 + 768, 'disc=', -1152*z3 - 2160, 1]]\n"
     ]
    },
    {
     "name": "stdout",
     "output_type": "stream",
     "text": [
      "[7, z3 + 1, [2575765504, 'jinv=', -576310764672*z3 + 477796472496, 10368*z3 - 3024, 'disc=', 14942208*z3 + 8634368, 1]]\n"
     ]
    },
    {
     "name": "stdout",
     "output_type": "stream",
     "text": [
      "[13, z3, [9314704, 'jinv=', -37044659937024*z3 + 90029813865984, 20736*z3 + 13824, 'disc=', -115536*z3 - 136720, 1]]\n"
     ]
    },
    {
     "name": "stdout",
     "output_type": "stream",
     "text": [
      "[13, -z3, [1247385194496, 'jinv=', -576859107555264*z3 + 422133441946416, 695616*z3 + 296496, 'disc=', -1670971392*z3 - 5368725504, 1]]\n"
     ]
    },
    {
     "name": "stdout",
     "output_type": "stream",
     "text": [
      "[13, -z3 - 1, [9314704, 'jinv=', 37044659937024*z3 + 127074473803008, -20736*z3 - 6912, 'disc=', 115536*z3 - 21184, 1]]\n"
     ]
    },
    {
     "name": "stdout",
     "output_type": "stream",
     "text": [
      "[13, z3 + 1, [1247385194496, 'jinv=', 576859107555264*z3 + 998992549501680, -695616*z3 - 399120, 'disc=', 1670971392*z3 - 3697754112, 1]]\n"
     ]
    }
   ],
   "source": [
    "U2= [1,-1,z3,-z3, z3^2,-z3^2]\n",
    "X3 = [(2,calC2_1,calC2_2),(5,calC5_1,calC5_2),(7,calC7_1,calC7_2),(13,calC13_1,calC13_2)]\n",
    "for x in X3:\n",
    "\tp=x[0]\n",
    "\tE1=x[1]\n",
    "\tE2=x[2]\n",
    "\tfor t1 in U2:\n",
    "\t\tif t1 != 1 and t1 != -1:\n",
    "\t\t\tprint([p,t1,CurveVer(E1,E2,t1,1,K)])"
   ]
  },
  {
   "cell_type": "code",
   "execution_count": 8,
   "metadata": {
    "collapsed": false
   },
   "outputs": [
   ],
   "source": [
    "for x in X3:\n",
    "\tE1=x[1]\n",
    "\tfor u in U2:\n",
    "\t\tfor v in U2:\n",
    "\t\t\tif u != v:\n",
    "\t\t\t\tI= E1(u,1).isogeny_class()\n",
    "\t\t\t\tfor F in I:\n",
    "\t\t\t\t\tif ZZ(E1(v,1).change_ring(K).is_quadratic_twist(F.change_ring(K))) != 0 :\n",
    "\t\t\t\t\t\tprint((u,v))"
   ]
  },
  {
   "cell_type": "code",
   "execution_count": 0,
   "metadata": {
    "collapsed": false
   },
   "outputs": [
   ],
   "source": [
   ]
  }
 ],
 "metadata": {
  "kernelspec": {
   "display_name": "SageMath 9.1",
   "language": "sagemath",
   "metadata": {
    "cocalc": {
     "description": "Open-source mathematical software system",
     "priority": 1,
     "url": "https://www.sagemath.org/"
    }
   },
   "name": "sage-9.1",
   "resource_dir": "/ext/jupyter/kernels/sage-9.1"
  },
  "language_info": {
   "codemirror_mode": {
    "name": "ipython",
    "version": 3
   },
   "file_extension": ".py",
   "mimetype": "text/x-python",
   "name": "python",
   "nbconvert_exporter": "python",
   "pygments_lexer": "ipython3",
   "version": "3.7.3"
  }
 },
 "nbformat": 4,
 "nbformat_minor": 4
}