{
 "cells": [
  {
   "cell_type": "code",
   "execution_count": 1,
   "metadata": {
    "collapsed": false
   },
   "outputs": [
   ],
   "source": [
    "K.<i> = NumberField(x^2+1)\n",
    "S.<a,b,t,d> = K[]\n",
    "S=S.fraction_field()\n",
    "load('models.sage')"
   ]
  },
  {
   "cell_type": "code",
   "execution_count": 2,
   "metadata": {
    "collapsed": false
   },
   "outputs": [
    {
     "name": "stdout",
     "output_type": "stream",
     "text": [
      "True\n",
      "True\n",
      "True\n",
      "True\n",
      "True\n",
      "True\n",
      "True\n",
      "True\n",
      "True\n",
      "True\n",
      "True\n",
      "True\n",
      "True\n",
      "True\n",
      "True\n",
      "True\n",
      "True\n",
      "True\n",
      "True\n",
      "True\n"
     ]
    }
   ],
   "source": [
    "X = [(2,j2_1,j2_2),(3,j3_1,j3_2),(5,j5_1,j5_2),(7,j7_1,j7_2),(13,j13_1,j13_2)]\n",
    "for x in X:\n",
    "\tp,j1,j2 =x[0],x[1],x[2]\n",
    "\tprint(K(j1(1)) == K(j2(p^(12/(p-1)))))\n",
    "\tprint(K(j1(-1)) == K(j2(-p^(12/(p-1)))))\n",
    "\tprint(K(j1(i)) == K(j2(-i*p^(12/(p-1)))))\n",
    "\tprint(K(j1(-i)) == K(j2(i*p^(12/(p-1)))))"
   ]
  },
  {
   "cell_type": "code",
   "execution_count": 3,
   "metadata": {
    "collapsed": false
   },
   "outputs": [
    {
     "name": "stdout",
     "output_type": "stream",
     "text": [
      "[1, [17850625, 'jinv=', 16974593, 4913, 'disc=', 274625, 1]]\n",
      "None\n"
     ]
    },
    {
     "name": "stdout",
     "output_type": "stream",
     "text": [
      "[-1, [194481, 'jinv=', 16581375, -3375, 'disc=', 250047, -1]]\n",
      "None\n"
     ]
    },
    {
     "name": "stdout",
     "output_type": "stream",
     "text": [
      "[i, [4297064704, 'jinv=', -196607*i - 16776448, -4048*i + 767, 'disc=', -50327552*i - 1072955392, -i]]\n",
      "None\n"
     ]
    },
    {
     "name": "stdout",
     "output_type": "stream",
     "text": [
      "[-i, [4297064704, 'jinv=', 196607*i - 16776448, 4048*i + 767, 'disc=', 50327552*i - 1072955392, i]]\n",
      "None\n"
     ]
    },
    {
     "name": "stdout",
     "output_type": "stream",
     "text": [
      "[64, [4096, 'jinv=', 8000, 8000, 'disc=', 512, -1]]\n",
      "None\n",
      "[-64, -64]\n",
      "None\n"
     ]
    },
    {
     "name": "stdout",
     "output_type": "stream",
     "text": [
      "[64*i, [16384, 'jinv=', -3008*i - 3328, 3008*i - 3328, 'disc=', -128*i + 128, i]]\n",
      "None\n"
     ]
    },
    {
     "name": "stdout",
     "output_type": "stream",
     "text": [
      "[-64*i, [16384, 'jinv=', 3008*i - 3328, -3008*i - 3328, 'disc=', 128*i + 128, -i]]\n",
      "None\n"
     ]
    }
   ],
   "source": [
    "U1= [1,-1,i,-i ,64, -64,64*i,-i*64]\n",
    "for t1 in U1:\n",
    "\tprint(print([t1,CurveVer(calC2_1,calC2_2,t1,1,K)]))"
   ]
  },
  {
   "cell_type": "code",
   "execution_count": 11,
   "metadata": {
    "collapsed": false
   },
   "outputs": [
    {
     "name": "stdout",
     "output_type": "stream",
     "text": [
      "False\n"
     ]
    }
   ],
   "source": [
    "print(calC2_1(64,1).change_ring(K).is_isomorphic(calC2_2(64,1).change_ring(K)))"
   ]
  },
  {
   "cell_type": "code",
   "execution_count": 19,
   "metadata": {
    "collapsed": false
   },
   "outputs": [
    {
     "name": "stdout",
     "output_type": "stream",
     "text": [
      "4096\n"
     ]
    },
    {
     "name": "stdout",
     "output_type": "stream",
     "text": [
      "Elliptic Curve defined by y^2 = x^3 + x^2 + (-3)*x + 1 over Number Field in i with defining polynomial x^2 + 1\n",
      "Elliptic Curve defined by y^2 = x^3 + i*x^2 + 3*x + (-i) over Number Field in i with defining polynomial x^2 + 1\n"
     ]
    }
   ],
   "source": [
    "print(calC2_1(64,1).change_ring(K).conductor().norm())\n",
    "print(minimal_with_units(calC2_1(64,1).change_ring(K).change_weierstrass_model(i)))\n",
    "print(minimal_with_units(calC2_2(64,1).change_ring(K).change_weierstrass_model(i)))"
   ]
  },
  {
   "cell_type": "code",
   "execution_count": 8,
   "metadata": {
    "collapsed": false
   },
   "outputs": [
    {
     "name": "stdout",
     "output_type": "stream",
     "text": [
      "(64*i, -64*i)\n"
     ]
    },
    {
     "name": "stdout",
     "output_type": "stream",
     "text": [
      "(-64*i, 64*i)\n"
     ]
    }
   ],
   "source": [
    "L1=[]\n",
    "for u in U1:\n",
    "\tfor v in U1:\n",
    "\t\tif u != v:\n",
    "\t\t\ttry:\n",
    "\t\t\t\tcalC2_1(u,1)\n",
    "\t\t\texcept ArithmeticError:\n",
    "\t\t\t\tL1.append(u)\n",
    "\t\t\telse:\n",
    "\t\t\t\ttry:\n",
    "\t\t\t\t\tcalC2_1(v,1)\n",
    "\t\t\t\texcept ArithmeticError:\n",
    "\t\t\t\t\tL1.append(v)\n",
    "\t\t\t\telse:\n",
    "\t\t\t\t\tI = calC2_1(u,1).isogeny_class()\n",
    "\t\t\t\t\tfor F in I:\n",
    "\t\t\t\t\t\tif ZZ(calC2_1(v,1).change_ring(K).is_quadratic_twist(F.change_ring(K))) != 0 :\n",
    "\t\t\t\t\t\t\tprint((u,v))"
   ]
  },
  {
   "cell_type": "code",
   "execution_count": 9,
   "metadata": {
    "collapsed": false
   },
   "outputs": [
    {
     "name": "stdout",
     "output_type": "stream",
     "text": [
      "[3, i, [43164900, 'jinv=', 387223660*i - 19131120, -460*i + 720, 'disc=', -198010209627792*i + 60419803481856, -1]]\n"
     ]
    },
    {
     "name": "stdout",
     "output_type": "stream",
     "text": [
      "[3, -i, [43164900, 'jinv=', -387223660*i - 19131120, 460*i + 720, 'disc=', 198010209627792*i + 60419803481856, -1]]\n"
     ]
    },
    {
     "name": "stdout",
     "output_type": "stream",
     "text": [
      "[5, i, [4024633600, 'jinv=', -29902540624*i + 7303907000, 1136*i - 520, 'disc=', -110500864*i + 64266752, 1]]\n"
     ]
    },
    {
     "name": "stdout",
     "output_type": "stream",
     "text": [
      "[5, -i, [4024633600, 'jinv=', 29902540624*i + 7303907000, -1136*i - 520, 'disc=', 110500864*i + 64266752, 1]]\n"
     ]
    },
    {
     "name": "stdout",
     "output_type": "stream",
     "text": [
      "[7, i, [1565626624, 'jinv=', 587961739625*i - 376600566000, -1625*i - 6000, 'disc=', -8744960*i + 5111808, -1]]\n"
     ]
    },
    {
     "name": "stdout",
     "output_type": "stream",
     "text": [
      "[7, -i, [1565626624, 'jinv=', -587961739625*i - 376600566000, 1625*i - 6000, 'disc=', 8744960*i + 5111808, -1]]\n"
     ]
    },
    {
     "name": "stdout",
     "output_type": "stream",
     "text": [
      "[13, i, [21902400, 'jinv=', 142566162324912*i + 297218710280952, 26352*i + 128952, 'disc=', -233712*i - 334584, 1]]\n"
     ]
    },
    {
     "name": "stdout",
     "output_type": "stream",
     "text": [
      "[13, -i, [21902400, 'jinv=', -142566162324912*i + 297218710280952, -26352*i + 128952, 'disc=', 233712*i - 334584, 1]]\n"
     ]
    }
   ],
   "source": [
    "U2= [1,-1,i,-i]\n",
    "X3 = [(3,calC3_1,calC3_2),(5,calC5_1,calC5_2),(7,calC7_1,calC7_2),(13,calC13_1,calC13_2)]\n",
    "for x in X3:\n",
    "\tp=x[0]\n",
    "\tE1=x[1]\n",
    "\tE2=x[2]\n",
    "\tfor t1 in U2:\n",
    "\t\tif t1 != 1 and t1 != -1:\n",
    "\t\t\tprint([p,t1,CurveVer(E1,E2,t1,1,K)])"
   ]
  },
  {
   "cell_type": "code",
   "execution_count": 10,
   "metadata": {
    "collapsed": false
   },
   "outputs": [
   ],
   "source": [
    "for x in X3:\n",
    "\tE1=x[1]\n",
    "\tfor u in U2:\n",
    "\t\tfor v in U2:\n",
    "\t\t\tif u != v:\n",
    "\t\t\t\tI= E1(u,1).isogeny_class()\n",
    "\t\t\t\tfor F in I:\n",
    "\t\t\t\t\tif ZZ(E1(v,1).change_ring(K).is_quadratic_twist(F.change_ring(K))) != 0 :\n",
    "\t\t\t\t\t\tprint((u,v))"
   ]
  },
  {
   "cell_type": "code",
   "execution_count": 25,
   "metadata": {
    "collapsed": false
   },
   "outputs": [
    {
     "ename": "TypeError",
     "evalue": "The first argument must be a symbolic expression or a list of symbolic expressions.",
     "output_type": "error",
     "traceback": [
      "\u001b[0;31m---------------------------------------------------------------------------\u001b[0m",
      "\u001b[0;31mTypeError\u001b[0m                                 Traceback (most recent call last)",
      "\u001b[0;32m<ipython-input-25-b358a98e36d5>\u001b[0m in \u001b[0;36m<module>\u001b[0;34m()\u001b[0m\n\u001b[1;32m      1\u001b[0m \u001b[0mvar\u001b[0m\u001b[0;34m(\u001b[0m\u001b[0;34m'z'\u001b[0m\u001b[0;34m)\u001b[0m\u001b[0;34m\u001b[0m\u001b[0;34m\u001b[0m\u001b[0m\n\u001b[0;32m----> 2\u001b[0;31m \u001b[0msolve\u001b[0m\u001b[0;34m(\u001b[0m\u001b[0;34m(\u001b[0m\u001b[0mz\u001b[0m\u001b[0;34m**\u001b[0m\u001b[0mInteger\u001b[0m\u001b[0;34m(\u001b[0m\u001b[0;36m3\u001b[0m\u001b[0;34m)\u001b[0m \u001b[0;34m+\u001b[0m \u001b[0mInteger\u001b[0m\u001b[0;34m(\u001b[0m\u001b[0;36m768\u001b[0m\u001b[0;34m)\u001b[0m\u001b[0;34m*\u001b[0m\u001b[0mz\u001b[0m\u001b[0;34m**\u001b[0m\u001b[0mInteger\u001b[0m\u001b[0;34m(\u001b[0m\u001b[0;36m2\u001b[0m\u001b[0;34m)\u001b[0m \u001b[0;34m+\u001b[0m \u001b[0mInteger\u001b[0m\u001b[0;34m(\u001b[0m\u001b[0;36m196608\u001b[0m\u001b[0;34m)\u001b[0m\u001b[0;34m*\u001b[0m\u001b[0mz\u001b[0m \u001b[0;34m+\u001b[0m \u001b[0mInteger\u001b[0m\u001b[0;34m(\u001b[0m\u001b[0;36m16777216\u001b[0m\u001b[0;34m)\u001b[0m\u001b[0;34m)\u001b[0m\u001b[0;34m/\u001b[0m\u001b[0mz\u001b[0m\u001b[0;34m**\u001b[0m\u001b[0mInteger\u001b[0m\u001b[0;34m(\u001b[0m\u001b[0;36m2\u001b[0m\u001b[0;34m)\u001b[0m \u001b[0;34m==\u001b[0m \u001b[0;34m-\u001b[0m\u001b[0mInteger\u001b[0m\u001b[0;34m(\u001b[0m\u001b[0;36m118792\u001b[0m\u001b[0;34m)\u001b[0m\u001b[0;34m*\u001b[0m\u001b[0mi\u001b[0m \u001b[0;34m-\u001b[0m\u001b[0mInteger\u001b[0m\u001b[0;34m(\u001b[0m\u001b[0;36m11528\u001b[0m\u001b[0;34m)\u001b[0m\u001b[0;34m,\u001b[0m\u001b[0mz\u001b[0m\u001b[0;34m)\u001b[0m\u001b[0;34m\u001b[0m\u001b[0;34m\u001b[0m\u001b[0m\n\u001b[0m",
      "\u001b[0;32m/ext/sage/sage-9.1/local/lib/python3.7/site-packages/sage/symbolic/relation.py\u001b[0m in \u001b[0;36msolve\u001b[0;34m(f, *args, **kwds)\u001b[0m\n\u001b[1;32m   1045\u001b[0m \u001b[0;34m\u001b[0m\u001b[0m\n\u001b[1;32m   1046\u001b[0m     \u001b[0;32mif\u001b[0m \u001b[0;32mnot\u001b[0m \u001b[0misinstance\u001b[0m\u001b[0;34m(\u001b[0m\u001b[0mf\u001b[0m\u001b[0;34m,\u001b[0m \u001b[0;34m(\u001b[0m\u001b[0mlist\u001b[0m\u001b[0;34m,\u001b[0m \u001b[0mtuple\u001b[0m\u001b[0;34m)\u001b[0m\u001b[0;34m)\u001b[0m\u001b[0;34m:\u001b[0m\u001b[0;34m\u001b[0m\u001b[0;34m\u001b[0m\u001b[0m\n\u001b[0;32m-> 1047\u001b[0;31m         \u001b[0;32mraise\u001b[0m \u001b[0mTypeError\u001b[0m\u001b[0;34m(\u001b[0m\u001b[0;34m\"The first argument must be a symbolic expression or a list of symbolic expressions.\"\u001b[0m\u001b[0;34m)\u001b[0m\u001b[0;34m\u001b[0m\u001b[0;34m\u001b[0m\u001b[0m\n\u001b[0m\u001b[1;32m   1048\u001b[0m \u001b[0;34m\u001b[0m\u001b[0m\n\u001b[1;32m   1049\u001b[0m     \u001b[0;31m# f is a list of such expressions or equations\u001b[0m\u001b[0;34m\u001b[0m\u001b[0;34m\u001b[0m\u001b[0;34m\u001b[0m\u001b[0m\n",
      "\u001b[0;31mTypeError\u001b[0m: The first argument must be a symbolic expression or a list of symbolic expressions."
     ]
    }
   ],
   "source": [
    "var('z')\n",
    "solve((z^3 + 768*z^2 + 196608*z + 16777216)/z^2 == -118792*i -11528,z)"
   ]
  },
  {
   "cell_type": "code",
   "execution_count": 31,
   "metadata": {
    "collapsed": false
   },
   "outputs": [
    {
     "data": {
      "text/plain": [
       "(t^6 + 768*t^5 + 208896*t^4 + 23068672*t^3 + 855638016*t^2 + 12884901888*t + 68719476736)/(t^5 + 16*t^4)"
      ]
     },
     "execution_count": 31,
     "metadata": {
     },
     "output_type": "execute_result"
    }
   ],
   "source": [
    "j4_1(t)"
   ]
  },
  {
   "cell_type": "code",
   "execution_count": 49,
   "metadata": {
    "collapsed": false
   },
   "outputs": [
    {
     "name": "stdout",
     "output_type": "stream",
     "text": [
      "(-1) * (i + 1)^10\n",
      "(-i) * (i + 1)^20\n"
     ]
    }
   ],
   "source": [
    "print(factor(minimal_with_units(calC4_1(16*i,1)).discriminant()))\n",
    "print(factor(minimal_with_units(calC4_3(16*i,1)).discriminant()))"
   ]
  },
  {
   "cell_type": "code",
   "execution_count": 35,
   "metadata": {
    "collapsed": false
   },
   "outputs": [
    {
     "data": {
      "text/plain": [
       "128"
      ]
     },
     "execution_count": 35,
     "metadata": {
     },
     "output_type": "execute_result"
    }
   ],
   "source": [
    "calC4_1(-8-8*i,1).j_invariant()"
   ]
  },
  {
   "cell_type": "code",
   "execution_count": 52,
   "metadata": {
    "collapsed": false
   },
   "outputs": [
    {
     "data": {
      "text/plain": [
       "[Isogeny of degree 7 from Elliptic Curve defined by y^2 = x^3 + 1 over Cyclotomic Field of order 3 and degree 2 to Elliptic Curve defined by y^2 = x^3 + 1 over Cyclotomic Field of order 3 and degree 2,\n",
       " Isogeny of degree 7 from Elliptic Curve defined by y^2 = x^3 + 1 over Cyclotomic Field of order 3 and degree 2 to Elliptic Curve defined by y^2 = x^3 + 1 over Cyclotomic Field of order 3 and degree 2]"
      ]
     },
     "execution_count": 52,
     "metadata": {
     },
     "output_type": "execute_result"
    }
   ],
   "source": [
    "EllipticCurve([0,1]).change_ring(K3).isogenies_prime_degree(7)"
   ]
  },
  {
   "cell_type": "code",
   "execution_count": 0,
   "metadata": {
    "collapsed": false
   },
   "outputs": [
   ],
   "source": [
   ]
  }
 ],
 "metadata": {
  "kernelspec": {
   "display_name": "SageMath 9.1",
   "language": "sagemath",
   "metadata": {
    "cocalc": {
     "description": "Open-source mathematical software system",
     "priority": 1,
     "url": "https://www.sagemath.org/"
    }
   },
   "name": "sage-9.1",
   "resource_dir": "/ext/jupyter/kernels/sage-9.1"
  },
  "language_info": {
   "codemirror_mode": {
    "name": "ipython",
    "version": 3
   },
   "file_extension": ".py",
   "mimetype": "text/x-python",
   "name": "python",
   "nbconvert_exporter": "python",
   "pygments_lexer": "ipython3",
   "version": "3.7.3"
  }
 },
 "nbformat": 4,
 "nbformat_minor": 4
}