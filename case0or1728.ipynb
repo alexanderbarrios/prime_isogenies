{
 "cells": [
  {
   "cell_type": "code",
   "execution_count": 27,
   "metadata": {
    "collapsed": false
   },
   "outputs": [
   ],
   "source": [
    "K2.<i> = NumberField(x^2+1)\n",
    "K3.<z3> = CyclotomicField(3)"
   ]
  },
  {
   "cell_type": "code",
   "execution_count": 28,
   "metadata": {
    "collapsed": false
   },
   "outputs": [
   ],
   "source": [
    "def E0(d,K):\n",
    "\treturn EllipticCurve([0,d]).change_ring(K)\n",
    "def E1728(d,K):\n",
    "\treturn EllipticCurve([d,0]).change_ring(K)"
   ]
  },
  {
   "cell_type": "code",
   "execution_count": 56,
   "metadata": {
    "collapsed": false
   },
   "outputs": [
   ],
   "source": [
    "for n in (0..5):\n",
    "\tI=E0(3^n,K2).isogeny_class()\n",
    "\tfor E in I:\n",
    "\t\tfor F in I:\n",
    "\t\t\tif E.is_isomorphic(F) == False:\n",
    "\t\t\t\tEd,Fd=E.global_minimal_model().discriminant(),F.global_minimal_model().discriminant()\n",
    "\t\t\t\tif norm(Ed/Fd) == 1:\n",
    "\t\t\t\t\tprint(E.isogeny_degree(F))\n",
    "\t\t\t\tif E.isogeny_degree(F) in [5,7,13]:\n",
    "\t\t\t\t\tprint(E)"
   ]
  },
  {
   "cell_type": "code",
   "execution_count": 57,
   "metadata": {
    "collapsed": false
   },
   "outputs": [
   ],
   "source": [
    "for n in (0..3):\n",
    "\tI=E1728(3^n,K2).isogeny_class()\n",
    "\tfor E in I:\n",
    "\t\tfor F in I:\n",
    "\t\t\tif E.is_isomorphic(F) == False:\n",
    "\t\t\t\tEd,Fd=E.global_minimal_model().discriminant(),F.global_minimal_model().discriminant()\n",
    "\t\t\t\tif norm(Ed/Fd) == 1:\n",
    "\t\t\t\t\tprint(E.isogeny_degree(F))\n",
    "\t\t\t\tif E.isogeny_degree(F) in [5,7,13]:\n",
    "\t\t\t\t\tprint(E)"
   ]
  },
  {
   "cell_type": "code",
   "execution_count": 31,
   "metadata": {
    "collapsed": false
   },
   "outputs": [
    {
     "data": {
      "text/plain": [
       "2"
      ]
     },
     "execution_count": 31,
     "metadata": {
     },
     "output_type": "execute_result"
    }
   ],
   "source": [
    "factor(K3(2))"
   ]
  },
  {
   "cell_type": "code",
   "execution_count": 58,
   "metadata": {
    "collapsed": false
   },
   "outputs": [
   ],
   "source": [
    "for n in (0..5):\n",
    "\tI=E0(2^n,K3).isogeny_class()\n",
    "\tfor E in I:\n",
    "\t\tfor F in I:\n",
    "\t\t\tif E.is_isomorphic(F) == False:\n",
    "\t\t\t\tEd,Fd=E.global_minimal_model().discriminant(),F.global_minimal_model().discriminant()\n",
    "\t\t\t\tif norm(Ed/Fd) == 1:\n",
    "\t\t\t\t\tprint(E.isogeny_degree(F))\n",
    "\t\t\t\tif E.isogeny_degree(F) in [5,7,13]:\n",
    "\t\t\t\t\tprint(E)"
   ]
  },
  {
   "cell_type": "code",
   "execution_count": 59,
   "metadata": {
    "collapsed": false
   },
   "outputs": [
    {
     "name": "stdout",
     "output_type": "stream",
     "text": [
      "4\n",
      "4\n"
     ]
    },
    {
     "name": "stdout",
     "output_type": "stream",
     "text": [
      "4\n",
      "4\n"
     ]
    }
   ],
   "source": [
    "for n in (0..3):\n",
    "\tI=E1728(2^n,K3).isogeny_class()\n",
    "\tfor E in I:\n",
    "\t\tfor F in I:\n",
    "\t\t\tif E.is_isomorphic(F) == False:\n",
    "\t\t\t\tEd,Fd=E.global_minimal_model().discriminant(),F.global_minimal_model().discriminant()\n",
    "\t\t\t\tif norm(Ed/Fd) == 1:\n",
    "\t\t\t\t\tprint(E.isogeny_degree(F))\n",
    "\t\t\t\tif E.isogeny_degree(F) in [5,7,13]:\n",
    "\t\t\t\t\tprint(E)"
   ]
  },
  {
   "cell_type": "code",
   "execution_count": 64,
   "metadata": {
    "collapsed": false
   },
   "outputs": [
    {
     "data": {
      "text/plain": [
       "1"
      ]
     },
     "execution_count": 64,
     "metadata": {
     },
     "output_type": "execute_result"
    }
   ],
   "source": [
    "(-z3)^6"
   ]
  },
  {
   "cell_type": "code",
   "execution_count": 0,
   "metadata": {
    "collapsed": false
   },
   "outputs": [
   ],
   "source": [
   ]
  }
 ],
 "metadata": {
  "kernelspec": {
   "display_name": "SageMath 9.1",
   "language": "sagemath",
   "metadata": {
    "cocalc": {
     "description": "Open-source mathematical software system",
     "priority": 1,
     "url": "https://www.sagemath.org/"
    }
   },
   "name": "sage-9.1",
   "resource_dir": "/ext/jupyter/kernels/sage-9.1"
  }
 },
 "nbformat": 4,
 "nbformat_minor": 4
}